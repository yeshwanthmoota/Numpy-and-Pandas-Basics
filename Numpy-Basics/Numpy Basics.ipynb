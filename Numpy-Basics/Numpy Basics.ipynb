{
 "cells": [
  {
   "cell_type": "markdown",
   "id": "b269fe10",
   "metadata": {},
   "source": [
    "# Numpy\n",
    "\n",
    "Numpy is a type of array(c++ type of array not like a list)  \n",
    "nd-array -> n-dimensional array"
   ]
  },
  {
   "cell_type": "markdown",
   "id": "060a59b6",
   "metadata": {},
   "source": [
    "### Creating different type of Numpy arrays"
   ]
  },
  {
   "cell_type": "code",
   "execution_count": 1,
   "id": "ed30d21a",
   "metadata": {},
   "outputs": [],
   "source": [
    "import numpy as np"
   ]
  },
  {
   "cell_type": "code",
   "execution_count": 2,
   "id": "876f882f",
   "metadata": {},
   "outputs": [
    {
     "data": {
      "text/plain": [
       "array([0, 1, 2, 3, 4])"
      ]
     },
     "execution_count": 2,
     "metadata": {},
     "output_type": "execute_result"
    }
   ],
   "source": [
    "np1 = np.array([0, 1, 2, 3, 4]) # Creating a Numpy array\n",
    "np1"
   ]
  },
  {
   "cell_type": "code",
   "execution_count": 3,
   "id": "25284adb",
   "metadata": {},
   "outputs": [
    {
     "data": {
      "text/plain": [
       "(5,)"
      ]
     },
     "execution_count": 3,
     "metadata": {},
     "output_type": "execute_result"
    }
   ],
   "source": [
    "np1.shape # see the shape of the array"
   ]
  },
  {
   "cell_type": "code",
   "execution_count": 4,
   "id": "185b0bc9",
   "metadata": {},
   "outputs": [
    {
     "data": {
      "text/plain": [
       "array([0, 1, 2, 3])"
      ]
     },
     "execution_count": 4,
     "metadata": {},
     "output_type": "execute_result"
    }
   ],
   "source": [
    "np1 = np.arange(4) # arange() used to create arrays in sequential order\n",
    "np1"
   ]
  },
  {
   "cell_type": "code",
   "execution_count": 5,
   "id": "53938766",
   "metadata": {},
   "outputs": [
    {
     "data": {
      "text/plain": [
       "array([ 4,  7, 10, 13, 16, 19, 22, 25, 28, 31, 34, 37, 40, 43, 46, 49])"
      ]
     },
     "execution_count": 5,
     "metadata": {},
     "output_type": "execute_result"
    }
   ],
   "source": [
    "np1 = np.arange(4, 50, 3) # arange(begin, end, step)\n",
    "np1"
   ]
  },
  {
   "cell_type": "code",
   "execution_count": 6,
   "id": "1accab0e",
   "metadata": {},
   "outputs": [
    {
     "data": {
      "text/plain": [
       "array([0., 0., 0., 0., 0.])"
      ]
     },
     "execution_count": 6,
     "metadata": {},
     "output_type": "execute_result"
    }
   ],
   "source": [
    "np1 = np.zeros((5)) # zeros() used to create a array of zeroes, Always pass in a tuple of values as the shape\n",
    "np1"
   ]
  },
  {
   "cell_type": "code",
   "execution_count": 7,
   "id": "82a68057",
   "metadata": {},
   "outputs": [
    {
     "data": {
      "text/plain": [
       "array([[0., 0.],\n",
       "       [0., 0.],\n",
       "       [0., 0.],\n",
       "       [0., 0.],\n",
       "       [0., 0.]])"
      ]
     },
     "execution_count": 7,
     "metadata": {},
     "output_type": "execute_result"
    }
   ],
   "source": [
    "np1 = np.zeros((5, 2)) # as we can see float values are produced.\n",
    "np1"
   ]
  },
  {
   "cell_type": "code",
   "execution_count": 8,
   "id": "1e962e87",
   "metadata": {},
   "outputs": [
    {
     "data": {
      "text/plain": [
       "array([[0, 0, 0, 0, 0, 0, 0],\n",
       "       [0, 0, 0, 0, 0, 0, 0]])"
      ]
     },
     "execution_count": 8,
     "metadata": {},
     "output_type": "execute_result"
    }
   ],
   "source": [
    "np1 = np.zeros((2, 7), dtype=int) # use 'dtype=int' to get zeros in integers\n",
    "np1"
   ]
  },
  {
   "cell_type": "code",
   "execution_count": 9,
   "id": "2f62a231",
   "metadata": {},
   "outputs": [
    {
     "data": {
      "text/plain": [
       "array([[5, 5, 5, 5, 5, 5, 5],\n",
       "       [5, 5, 5, 5, 5, 5, 5]])"
      ]
     },
     "execution_count": 9,
     "metadata": {},
     "output_type": "execute_result"
    }
   ],
   "source": [
    "np1 = np.full((2, 7), 5) # full(shape, number) used to fill the entire array of 'shape' with just 'number'\n",
    "np1"
   ]
  },
  {
   "cell_type": "code",
   "execution_count": 10,
   "id": "b9065ec5",
   "metadata": {},
   "outputs": [
    {
     "data": {
      "text/plain": [
       "array([1, 2, 3, 4, 5])"
      ]
     },
     "execution_count": 10,
     "metadata": {},
     "output_type": "execute_result"
    }
   ],
   "source": [
    "list1 = [1, 2, 3, 4, 5]\n",
    "np1 = np.array(list1) # converting a python-list into a numpy array.\n",
    "np1"
   ]
  },
  {
   "cell_type": "markdown",
   "id": "de16745a",
   "metadata": {},
   "source": [
    "### Accessing & Slicing\n",
    "\n",
    "When we slice an array we get a sub-array which we can use later"
   ]
  },
  {
   "cell_type": "markdown",
   "id": "fdf04727",
   "metadata": {},
   "source": [
    "#### Slicing 1d arrays"
   ]
  },
  {
   "cell_type": "code",
   "execution_count": 11,
   "id": "c19dbd56",
   "metadata": {},
   "outputs": [
    {
     "name": "stdout",
     "output_type": "stream",
     "text": [
      "1 , 4\n",
      "6 , 4\n"
     ]
    }
   ],
   "source": [
    "np1 = np.array([1, 2, 3, 4, 5, 6])\n",
    "print(np1[0], \",\", np1[3]) # Accessing elements is similar to normal C++ arrays\n",
    "print(np1[-1], \",\", np1[-3])"
   ]
  },
  {
   "cell_type": "code",
   "execution_count": 12,
   "id": "c0bb7d74",
   "metadata": {},
   "outputs": [
    {
     "data": {
      "text/plain": [
       "array(['zeroth', 'second', 'fifth'], dtype='<U6')"
      ]
     },
     "execution_count": 12,
     "metadata": {},
     "output_type": "execute_result"
    }
   ],
   "source": [
    "np1 = np.array([\"zeroth\", \"first\", \"second\", \"third\", \"fourth\", \"fifth\"])\n",
    "np1[ [0, 2, 5] ] # We can get a sub-array of the main array passing the indexes in a array form"
   ]
  },
  {
   "cell_type": "code",
   "execution_count": 13,
   "id": "23623b3d",
   "metadata": {},
   "outputs": [
    {
     "data": {
      "text/plain": [
       "array([82,  9, 37])"
      ]
     },
     "execution_count": 13,
     "metadata": {},
     "output_type": "execute_result"
    }
   ],
   "source": [
    "np1 = np.array([50, 82,  9, 37, 26, 44, 74, 74, 13, 63])\n",
    "np1[1:4] # slicing the numpy array np1[included_index:excluded_index]"
   ]
  },
  {
   "cell_type": "code",
   "execution_count": 14,
   "id": "f7a5f9d6",
   "metadata": {},
   "outputs": [
    {
     "data": {
      "text/plain": [
       "array([82, 37, 44])"
      ]
     },
     "execution_count": 14,
     "metadata": {},
     "output_type": "execute_result"
    }
   ],
   "source": [
    "np1[1:7:2] # np1[included_index:excluded_index:step], although 'step' is optional."
   ]
  },
  {
   "cell_type": "code",
   "execution_count": 15,
   "id": "3a190507",
   "metadata": {},
   "outputs": [
    {
     "data": {
      "text/plain": [
       "array([50,  9, 26, 74, 13])"
      ]
     },
     "execution_count": 15,
     "metadata": {},
     "output_type": "execute_result"
    }
   ],
   "source": [
    "np1[::2] # by default included_index = 0, excluded_index = -1(last element)."
   ]
  },
  {
   "cell_type": "code",
   "execution_count": 16,
   "id": "abc57a21",
   "metadata": {},
   "outputs": [
    {
     "data": {
      "text/plain": [
       "array([37, 26, 44, 74, 74, 13, 63])"
      ]
     },
     "execution_count": 16,
     "metadata": {},
     "output_type": "execute_result"
    }
   ],
   "source": [
    "np1[3:]"
   ]
  },
  {
   "cell_type": "code",
   "execution_count": 17,
   "id": "5d876512",
   "metadata": {},
   "outputs": [
    {
     "data": {
      "text/plain": [
       "array([44, 74, 74, 13])"
      ]
     },
     "execution_count": 17,
     "metadata": {},
     "output_type": "execute_result"
    }
   ],
   "source": [
    "np1[-5:-1] # we can write indexes only in a ascending order i.e. excluded_index > included_index"
   ]
  },
  {
   "cell_type": "markdown",
   "id": "af6fb7f6",
   "metadata": {},
   "source": [
    "<b>We can use slicing method to reverse our arrays</b>"
   ]
  },
  {
   "cell_type": "code",
   "execution_count": 18,
   "id": "e1b2bd16",
   "metadata": {},
   "outputs": [
    {
     "data": {
      "text/plain": [
       "array([63, 13, 74, 74, 44, 26, 37,  9, 82])"
      ]
     },
     "execution_count": 18,
     "metadata": {},
     "output_type": "execute_result"
    }
   ],
   "source": [
    "np1 = np1[-1:0:-1] # start from -1(the last element) ,end at 0(the first element), -1 => take negative steps\n",
    "np1"
   ]
  },
  {
   "cell_type": "markdown",
   "id": "685408c4",
   "metadata": {},
   "source": [
    "#### Slicing nd arrays"
   ]
  },
  {
   "cell_type": "code",
   "execution_count": 19,
   "id": "d14cc52c",
   "metadata": {},
   "outputs": [
    {
     "data": {
      "text/plain": [
       "array([[69, 70, 14,  0, 59],\n",
       "       [49,  3, 93, 63, 85],\n",
       "       [51, 48, 50, 53, 86]])"
      ]
     },
     "execution_count": 19,
     "metadata": {},
     "output_type": "execute_result"
    }
   ],
   "source": [
    "np1 = np.array(\n",
    "    [\n",
    "        [69, 70, 14,  0, 59],\n",
    "        [49,  3, 93, 63, 85],\n",
    "        [51, 48, 50, 53, 86]\n",
    "    ]\n",
    ")\n",
    "np1"
   ]
  },
  {
   "cell_type": "markdown",
   "id": "e9502a91",
   "metadata": {},
   "source": [
    "<u><b>Note:</b></u><br>\n",
    "Slicing a nd array is a bit complicated  \n",
    "Consider slicing the 2d array -> np1[index1:index2, index3:index4]  \n",
    "Here,  \n",
    "index1:index2 -> represents slicing of the (n-1)d arrays -> i.e. 1d arrays  \n",
    "index3:index4 -> represents slicing of the (n-2)d arrays inside those sliced (n-1)d arrays-> i.e. 0d array elements."
   ]
  },
  {
   "cell_type": "code",
   "execution_count": 20,
   "id": "56276e25",
   "metadata": {},
   "outputs": [
    {
     "data": {
      "text/plain": [
       "array([[63]])"
      ]
     },
     "execution_count": 20,
     "metadata": {},
     "output_type": "execute_result"
    }
   ],
   "source": [
    "np1[1:2, 3:4] # gives out a resultant sub-2d array"
   ]
  },
  {
   "cell_type": "code",
   "execution_count": 21,
   "id": "20e720de",
   "metadata": {},
   "outputs": [
    {
     "data": {
      "text/plain": [
       "array([[69, 70, 14,  0, 59],\n",
       "       [49,  3, 93, 63, 85]])"
      ]
     },
     "execution_count": 21,
     "metadata": {},
     "output_type": "execute_result"
    }
   ],
   "source": [
    "np1[0:2, :] # gives out a resultant sub-2d array"
   ]
  },
  {
   "cell_type": "code",
   "execution_count": 22,
   "id": "6bfa08df",
   "metadata": {},
   "outputs": [
    {
     "data": {
      "text/plain": [
       "array([93, 63])"
      ]
     },
     "execution_count": 22,
     "metadata": {},
     "output_type": "execute_result"
    }
   ],
   "source": [
    "np1[1, 2:4] # gives out a 1d array without the slice symbol -> ':'"
   ]
  },
  {
   "cell_type": "code",
   "execution_count": 23,
   "id": "4e20be08",
   "metadata": {},
   "outputs": [
    {
     "data": {
      "text/plain": [
       "(2,)"
      ]
     },
     "execution_count": 23,
     "metadata": {},
     "output_type": "execute_result"
    }
   ],
   "source": [
    "np1[1, 2:4].shape # this is a bad shape"
   ]
  },
  {
   "cell_type": "code",
   "execution_count": 24,
   "id": "7d4403af",
   "metadata": {},
   "outputs": [
    {
     "data": {
      "text/plain": [
       "array([[93, 63]])"
      ]
     },
     "execution_count": 24,
     "metadata": {},
     "output_type": "execute_result"
    }
   ],
   "source": [
    "np1[1:2, 2:4] # # gives out a 2d array although it is similar to the example above"
   ]
  },
  {
   "cell_type": "code",
   "execution_count": 25,
   "id": "1449c806",
   "metadata": {},
   "outputs": [
    {
     "data": {
      "text/plain": [
       "(1, 2)"
      ]
     },
     "execution_count": 25,
     "metadata": {},
     "output_type": "execute_result"
    }
   ],
   "source": [
    "np1[1:2, 2:4].shape # this is a good shape"
   ]
  },
  {
   "cell_type": "code",
   "execution_count": 26,
   "id": "7ba7b287",
   "metadata": {},
   "outputs": [
    {
     "data": {
      "text/plain": [
       "array([[[37, 77, 63, 90, 45],\n",
       "        [49, 33,  0,  7, 21],\n",
       "        [62,  4, 83, 45, 51],\n",
       "        [57, 83, 41, 13,  5]],\n",
       "\n",
       "       [[ 9, 54, 10, 60, 55],\n",
       "        [52, 39, 23, 71, 43],\n",
       "        [37, 59, 97, 43, 19],\n",
       "        [24, 78, 25, 44, 63]],\n",
       "\n",
       "       [[39, 72, 38, 90, 75],\n",
       "        [62,  1, 39, 86, 67],\n",
       "        [83, 72, 66, 21, 84],\n",
       "        [78, 82, 60, 50, 84]]])"
      ]
     },
     "execution_count": 26,
     "metadata": {},
     "output_type": "execute_result"
    }
   ],
   "source": [
    "np1 = np.array(\n",
    "        [[[37, 77, 63, 90, 45],\n",
    "        [49, 33,  0,  7, 21],\n",
    "        [62,  4, 83, 45, 51],\n",
    "        [57, 83, 41, 13,  5]],\n",
    "\n",
    "       [[ 9, 54, 10, 60, 55],\n",
    "        [52, 39, 23, 71, 43],\n",
    "        [37, 59, 97, 43, 19],\n",
    "        [24, 78, 25, 44, 63]],\n",
    "\n",
    "       [[39, 72, 38, 90, 75],\n",
    "        [62,  1, 39, 86, 67],\n",
    "        [83, 72, 66, 21, 84],\n",
    "        [78, 82, 60, 50, 84]]]\n",
    ")\n",
    "np1"
   ]
  },
  {
   "cell_type": "code",
   "execution_count": 27,
   "id": "65d6c827",
   "metadata": {},
   "outputs": [
    {
     "data": {
      "text/plain": [
       "(3, 4, 5)"
      ]
     },
     "execution_count": 27,
     "metadata": {},
     "output_type": "execute_result"
    }
   ],
   "source": [
    "np1.shape # this is a 3d array"
   ]
  },
  {
   "cell_type": "code",
   "execution_count": 28,
   "id": "c98f7727",
   "metadata": {},
   "outputs": [
    {
     "data": {
      "text/plain": [
       "array([[[ 0,  7],\n",
       "        [83, 45],\n",
       "        [41, 13]],\n",
       "\n",
       "       [[23, 71],\n",
       "        [97, 43],\n",
       "        [25, 44]]])"
      ]
     },
     "execution_count": 28,
     "metadata": {},
     "output_type": "execute_result"
    }
   ],
   "source": [
    "np1[0:2, 1:4, 2:-1]"
   ]
  },
  {
   "cell_type": "code",
   "execution_count": 29,
   "id": "f4689dbd",
   "metadata": {},
   "outputs": [
    {
     "data": {
      "text/plain": [
       "(2, 3, 2)"
      ]
     },
     "execution_count": 29,
     "metadata": {},
     "output_type": "execute_result"
    }
   ],
   "source": [
    "np1[0:2, 1:4, 2:-1].shape"
   ]
  },
  {
   "cell_type": "markdown",
   "id": "2849d4de",
   "metadata": {},
   "source": [
    "Shape explained:  \n",
    "np1[0:2, 1:4, 2:-1] contains 2 2d arrays, 3 1d arrays inside each of those 2d arrays,  \n",
    "2 0d array elements inside each of those 1d arrays hence the shape -> 2,3,2"
   ]
  },
  {
   "cell_type": "markdown",
   "id": "f59a95ca",
   "metadata": {},
   "source": [
    "### Numpy ufuncs (Universal functions)"
   ]
  },
  {
   "cell_type": "code",
   "execution_count": 30,
   "id": "b22fb521",
   "metadata": {},
   "outputs": [
    {
     "data": {
      "text/plain": [
       "array([[31, 22, 97],\n",
       "       [71, 84, 47]])"
      ]
     },
     "execution_count": 30,
     "metadata": {},
     "output_type": "execute_result"
    }
   ],
   "source": [
    "np1 = np.array(\n",
    "    [\n",
    "        [31, 22, 97],\n",
    "        [71, 84, 47]\n",
    "    ]\n",
    ")\n",
    "np1"
   ]
  },
  {
   "cell_type": "code",
   "execution_count": 31,
   "id": "b77d9b11",
   "metadata": {},
   "outputs": [
    {
     "data": {
      "text/plain": [
       "(2, 3)"
      ]
     },
     "execution_count": 31,
     "metadata": {},
     "output_type": "execute_result"
    }
   ],
   "source": [
    "np1.shape  # 2 1d arrays of 3 0d elements in each 1d array"
   ]
  },
  {
   "cell_type": "code",
   "execution_count": 32,
   "id": "fd825396",
   "metadata": {},
   "outputs": [
    {
     "data": {
      "text/plain": [
       "array([[5.56776436, 4.69041576, 9.8488578 ],\n",
       "       [8.42614977, 9.16515139, 6.8556546 ]])"
      ]
     },
     "execution_count": 32,
     "metadata": {},
     "output_type": "execute_result"
    }
   ],
   "source": [
    "np.sqrt(np1)"
   ]
  },
  {
   "cell_type": "code",
   "execution_count": 33,
   "id": "31ae8050",
   "metadata": {},
   "outputs": [
    {
     "data": {
      "text/plain": [
       "array([[31, 22, 97],\n",
       "       [71, 84, 47]])"
      ]
     },
     "execution_count": 33,
     "metadata": {},
     "output_type": "execute_result"
    }
   ],
   "source": [
    "np.absolute(np1)"
   ]
  },
  {
   "cell_type": "code",
   "execution_count": 34,
   "id": "501392a5",
   "metadata": {},
   "outputs": [
    {
     "data": {
      "text/plain": [
       "array([[2.90488497e+13, 3.58491285e+09, 1.33833472e+42],\n",
       "       [6.83767123e+30, 3.02507732e+36, 2.58131289e+20]])"
      ]
     },
     "execution_count": 34,
     "metadata": {},
     "output_type": "execute_result"
    }
   ],
   "source": [
    "np.exp(np1)"
   ]
  },
  {
   "cell_type": "code",
   "execution_count": 35,
   "id": "9344ff1f",
   "metadata": {},
   "outputs": [
    {
     "data": {
      "text/plain": [
       "22"
      ]
     },
     "execution_count": 35,
     "metadata": {},
     "output_type": "execute_result"
    }
   ],
   "source": [
    "np.min(np1)"
   ]
  },
  {
   "cell_type": "code",
   "execution_count": 36,
   "id": "1dc77efb",
   "metadata": {},
   "outputs": [
    {
     "data": {
      "text/plain": [
       "97"
      ]
     },
     "execution_count": 36,
     "metadata": {},
     "output_type": "execute_result"
    }
   ],
   "source": [
    "np.max(np1)"
   ]
  },
  {
   "cell_type": "code",
   "execution_count": 37,
   "id": "90ce2812",
   "metadata": {},
   "outputs": [
    {
     "data": {
      "text/plain": [
       "array([[-0.40403765, -0.00885131,  0.37960774],\n",
       "       [ 0.95105465,  0.73319032,  0.12357312]])"
      ]
     },
     "execution_count": 37,
     "metadata": {},
     "output_type": "execute_result"
    }
   ],
   "source": [
    "np.sin(np1)"
   ]
  },
  {
   "cell_type": "code",
   "execution_count": 38,
   "id": "afe8074a",
   "metadata": {},
   "outputs": [
    {
     "data": {
      "text/plain": [
       "array([[ 0.91474236, -0.99996083, -0.92514754],\n",
       "       [-0.30902273, -0.6800235 , -0.99233547]])"
      ]
     },
     "execution_count": 38,
     "metadata": {},
     "output_type": "execute_result"
    }
   ],
   "source": [
    "np.cos(np1)"
   ]
  },
  {
   "cell_type": "code",
   "execution_count": 39,
   "id": "1e95f049",
   "metadata": {},
   "outputs": [
    {
     "data": {
      "text/plain": [
       "array([[-0.44169557,  0.00885166, -0.4103213 ],\n",
       "       [-3.0776204 , -1.07818381, -0.12452757]])"
      ]
     },
     "execution_count": 39,
     "metadata": {},
     "output_type": "execute_result"
    }
   ],
   "source": [
    "np.tan(np1)"
   ]
  },
  {
   "cell_type": "code",
   "execution_count": 40,
   "id": "fd4960d2",
   "metadata": {},
   "outputs": [
    {
     "data": {
      "text/plain": [
       "array([[3.4339872 , 3.09104245, 4.57471098],\n",
       "       [4.26267988, 4.4308168 , 3.8501476 ]])"
      ]
     },
     "execution_count": 40,
     "metadata": {},
     "output_type": "execute_result"
    }
   ],
   "source": [
    "np.log(np1)"
   ]
  },
  {
   "cell_type": "code",
   "execution_count": 41,
   "id": "f9a3a02a",
   "metadata": {},
   "outputs": [],
   "source": [
    "np1[0, 1] *= -1\n",
    "np1[1, 2] *= -1"
   ]
  },
  {
   "cell_type": "code",
   "execution_count": 42,
   "id": "047b42e0",
   "metadata": {},
   "outputs": [
    {
     "data": {
      "text/plain": [
       "array([[ 1, -1,  1],\n",
       "       [ 1,  1, -1]])"
      ]
     },
     "execution_count": 42,
     "metadata": {},
     "output_type": "execute_result"
    }
   ],
   "source": [
    "np.sign(np1)"
   ]
  },
  {
   "cell_type": "markdown",
   "id": "d95758e6",
   "metadata": {},
   "source": [
    "### Copy vs View"
   ]
  },
  {
   "cell_type": "code",
   "execution_count": 43,
   "id": "a917f1c8",
   "metadata": {},
   "outputs": [
    {
     "name": "stdout",
     "output_type": "stream",
     "text": [
      "1st: [11  1  2  3  4  5] [0 1 2 3 4 5] [11  1  2  3  4  5] [11  1  2  3  4  5]\n",
      "2nd: [11  1  2  3  4  5] [15  1  2  3  4  5] [11  1  2  3  4  5] [11  1  2  3  4  5]\n",
      "3rd: [12  1  2  3  4  5] [15  1  2  3  4  5] [12  1  2  3  4  5] [12  1  2  3  4  5]\n",
      "4th: [20  1  2  3  4  5] [15  1  2  3  4  5] [20  1  2  3  4  5] [20  1  2  3  4  5]\n"
     ]
    }
   ],
   "source": [
    "np1 = np.array([0, 1, 2, 3, 4, 5])\n",
    "np2 = np1.copy() # creates a duplicate copy\n",
    "np3 = np1.view() # still linked to the parent array\n",
    "np4 = np1 # still linked to the parent array\n",
    "\n",
    "# by default if we write np_new = np_old, we are using view() which is still linked to np_old.\n",
    "\n",
    "np1[0] = 11\n",
    "print(\"1st:\", np1, np2, np3, np4)\n",
    "np2[0] = 15\n",
    "print(\"2nd:\", np1, np2, np3, np4)\n",
    "np3[0] = 12\n",
    "print(\"3rd:\", np1, np2, np3, np4)\n",
    "np4[0] = 20\n",
    "print(\"4th:\", np1, np2, np3, np4)"
   ]
  },
  {
   "cell_type": "markdown",
   "id": "faa90195",
   "metadata": {},
   "source": [
    "### numpy.reshape()"
   ]
  },
  {
   "cell_type": "code",
   "execution_count": 44,
   "id": "6a596eb0",
   "metadata": {},
   "outputs": [
    {
     "data": {
      "text/plain": [
       "array([ 1,  2,  3,  4,  5,  6,  7,  8,  9, 10, 11, 12])"
      ]
     },
     "execution_count": 44,
     "metadata": {},
     "output_type": "execute_result"
    }
   ],
   "source": [
    "np1 = np.arange(1, 13, 1)\n",
    "np1"
   ]
  },
  {
   "cell_type": "code",
   "execution_count": 45,
   "id": "a7bb2791",
   "metadata": {},
   "outputs": [
    {
     "data": {
      "text/plain": [
       "(12,)"
      ]
     },
     "execution_count": 45,
     "metadata": {},
     "output_type": "execute_result"
    }
   ],
   "source": [
    "np1.shape"
   ]
  },
  {
   "cell_type": "code",
   "execution_count": 46,
   "id": "22a1f585",
   "metadata": {},
   "outputs": [
    {
     "data": {
      "text/plain": [
       "array([[ 1,  2,  3,  4,  5,  6,  7,  8,  9, 10, 11, 12]])"
      ]
     },
     "execution_count": 46,
     "metadata": {},
     "output_type": "execute_result"
    }
   ],
   "source": [
    "np1.reshape(1, 12)"
   ]
  },
  {
   "cell_type": "code",
   "execution_count": 47,
   "id": "ef328196",
   "metadata": {},
   "outputs": [
    {
     "data": {
      "text/plain": [
       "array([[ 1,  2,  3,  4],\n",
       "       [ 5,  6,  7,  8],\n",
       "       [ 9, 10, 11, 12]])"
      ]
     },
     "execution_count": 47,
     "metadata": {},
     "output_type": "execute_result"
    }
   ],
   "source": [
    "np1.reshape(3, 4)"
   ]
  },
  {
   "cell_type": "code",
   "execution_count": 48,
   "id": "1c1b2952",
   "metadata": {},
   "outputs": [],
   "source": [
    "np1 = np1.reshape(2, 3, 2)"
   ]
  },
  {
   "cell_type": "code",
   "execution_count": 49,
   "id": "e0bc1030",
   "metadata": {},
   "outputs": [
    {
     "data": {
      "text/plain": [
       "array([[[ 1,  2],\n",
       "        [ 3,  4],\n",
       "        [ 5,  6]],\n",
       "\n",
       "       [[ 7,  8],\n",
       "        [ 9, 10],\n",
       "        [11, 12]]])"
      ]
     },
     "execution_count": 49,
     "metadata": {},
     "output_type": "execute_result"
    }
   ],
   "source": [
    "np1"
   ]
  },
  {
   "cell_type": "code",
   "execution_count": 50,
   "id": "61f0c076",
   "metadata": {},
   "outputs": [
    {
     "data": {
      "text/plain": [
       "array([ 1,  2,  3,  4,  5,  6,  7,  8,  9, 10, 11, 12])"
      ]
     },
     "execution_count": 50,
     "metadata": {},
     "output_type": "execute_result"
    }
   ],
   "source": [
    "np1.flatten() # can be used to flatten a nd array"
   ]
  },
  {
   "cell_type": "code",
   "execution_count": 51,
   "id": "79080c39",
   "metadata": {},
   "outputs": [
    {
     "data": {
      "text/plain": [
       "array([[[ 1,  2],\n",
       "        [ 3,  4],\n",
       "        [ 5,  6]],\n",
       "\n",
       "       [[ 7,  8],\n",
       "        [ 9, 10],\n",
       "        [11, 12]]])"
      ]
     },
     "execution_count": 51,
     "metadata": {},
     "output_type": "execute_result"
    }
   ],
   "source": [
    "np1"
   ]
  },
  {
   "cell_type": "code",
   "execution_count": 52,
   "id": "fff35727",
   "metadata": {},
   "outputs": [
    {
     "data": {
      "text/plain": [
       "array([ 1,  2,  3,  4,  5,  6,  7,  8,  9, 10, 11, 12])"
      ]
     },
     "execution_count": 52,
     "metadata": {},
     "output_type": "execute_result"
    }
   ],
   "source": [
    "np1 = np1.reshape(-1) # can also be used to flatten a nd array\n",
    "np1"
   ]
  },
  {
   "cell_type": "markdown",
   "id": "1db1d5a8",
   "metadata": {},
   "source": [
    "### Iterating through Numpy arrays"
   ]
  },
  {
   "cell_type": "code",
   "execution_count": 53,
   "id": "63cf48d6",
   "metadata": {},
   "outputs": [
    {
     "name": "stdout",
     "output_type": "stream",
     "text": [
      "Iterating through 1d array: \n",
      "1\n",
      "2\n",
      "3\n",
      "4\n",
      "5\n",
      "Iterating through 2d array: \n",
      "1\n",
      "2\n",
      "3\n",
      "4\n",
      "5\n",
      "6\n"
     ]
    }
   ],
   "source": [
    "np1 = np.array([1, 2, 3 ,4, 5])\n",
    "print(\"Iterating through 1d array: \")\n",
    "for x in np1:\n",
    "    print(x)\n",
    "np1 = np.array(\n",
    "    [\n",
    "        [1, 2, 3],\n",
    "        [4, 5, 6]\n",
    "    ]\n",
    ")\n",
    "print(\"Iterating through 2d array: \")\n",
    "for x in np1: # here x is the 1d array\n",
    "    for y in x: # here y is the 0d array element\n",
    "        print(y)"
   ]
  },
  {
   "cell_type": "markdown",
   "id": "027c90dd",
   "metadata": {},
   "source": [
    "<u><b>NOTE:</b></u>  \n",
    "Now, a clever way to iterate through the arrays using np.nditer()\n",
    "nditer() iterates through any nd-arrat to the basic 0d arrays"
   ]
  },
  {
   "cell_type": "code",
   "execution_count": 54,
   "id": "3772d63d",
   "metadata": {},
   "outputs": [
    {
     "name": "stdout",
     "output_type": "stream",
     "text": [
      "np1:\n",
      " [[1 2 3]\n",
      " [4 5 6]]\n",
      "Iterating using np.nditer(): \n",
      "1\n",
      "2\n",
      "3\n",
      "4\n",
      "5\n",
      "6\n"
     ]
    }
   ],
   "source": [
    "print(\"np1:\\n\",np1)\n",
    "print(\"Iterating using np.nditer(): \")\n",
    "for x in np.nditer(np1):\n",
    "    print(x)"
   ]
  },
  {
   "cell_type": "markdown",
   "id": "db0d7590",
   "metadata": {},
   "source": [
    "### Sorting Numpy arrays\n",
    "\n",
    "we can sort in 2 ways:  \n",
    "1. np_array.sort() -> this type of sort changes the array\n",
    "2. np.sort(np_array) -> this just returns the sorted array, But doesn't change the array itself"
   ]
  },
  {
   "cell_type": "code",
   "execution_count": 55,
   "id": "7679032e",
   "metadata": {},
   "outputs": [],
   "source": [
    "np1 = np.array([2, 1, 3, 4, 6, 5])\n",
    "np2 = np.array([\"Yesh\", \"siri\", \"krish\", \"radha\"])\n",
    "np3 = np.array([True, False, True, False])\n",
    "np4 = np.array([\n",
    "    [\n",
    "        [6, 7, 1, 9],\n",
    "        [8, 3, 5, 0]\n",
    "    ],\n",
    "    \n",
    "    [\n",
    "        [9, 8, 1, 7],\n",
    "        [6, 5, 4, 0]\n",
    "    ]\n",
    "])"
   ]
  },
  {
   "cell_type": "code",
   "execution_count": 56,
   "id": "c89267ee",
   "metadata": {},
   "outputs": [
    {
     "data": {
      "text/plain": [
       "array([1, 2, 3, 4, 5, 6])"
      ]
     },
     "execution_count": 56,
     "metadata": {},
     "output_type": "execute_result"
    }
   ],
   "source": [
    "np.sort(np1)"
   ]
  },
  {
   "cell_type": "code",
   "execution_count": 57,
   "id": "190a66dd",
   "metadata": {},
   "outputs": [
    {
     "data": {
      "text/plain": [
       "array([6, 5, 4, 3, 2])"
      ]
     },
     "execution_count": 57,
     "metadata": {},
     "output_type": "execute_result"
    }
   ],
   "source": [
    "# we cannot sort a numpy array in reverse but we can do this as the following:\n",
    "np_temp = np.sort(np1)\n",
    "np_temp[-1:0:-1] # start from -1(the last element) ,end at 0(the first element), -1 => take negative steps"
   ]
  },
  {
   "cell_type": "code",
   "execution_count": 58,
   "id": "a4ca194d",
   "metadata": {},
   "outputs": [
    {
     "data": {
      "text/plain": [
       "array(['Yesh', 'krish', 'radha', 'siri'], dtype='<U5')"
      ]
     },
     "execution_count": 58,
     "metadata": {},
     "output_type": "execute_result"
    }
   ],
   "source": [
    "np.sort(np2) # sorts according to ASCII values"
   ]
  },
  {
   "cell_type": "code",
   "execution_count": 59,
   "id": "9ca59b80",
   "metadata": {},
   "outputs": [
    {
     "data": {
      "text/plain": [
       "array([False, False,  True,  True])"
      ]
     },
     "execution_count": 59,
     "metadata": {},
     "output_type": "execute_result"
    }
   ],
   "source": [
    "np.sort(np3) # False = 0 and True = 1 in binary"
   ]
  },
  {
   "cell_type": "code",
   "execution_count": 60,
   "id": "7d7f408c",
   "metadata": {},
   "outputs": [
    {
     "data": {
      "text/plain": [
       "array([[[1, 6, 7, 9],\n",
       "        [0, 3, 5, 8]],\n",
       "\n",
       "       [[1, 7, 8, 9],\n",
       "        [0, 4, 5, 6]]])"
      ]
     },
     "execution_count": 60,
     "metadata": {},
     "output_type": "execute_result"
    }
   ],
   "source": [
    "np.sort(np4) # each 1d array is sorted (makes sense)"
   ]
  },
  {
   "cell_type": "markdown",
   "id": "cca3ce9c",
   "metadata": {},
   "source": [
    "### Searching Numpy arrays\n",
    "\n",
    "We Search Numpy arrays using np.where() function,  \n",
    "np.where(condition) -> we pass in a condition and it returns a sub array of indexes containing our search result."
   ]
  },
  {
   "cell_type": "code",
   "execution_count": 61,
   "id": "102790df",
   "metadata": {},
   "outputs": [
    {
     "data": {
      "text/plain": [
       "array([51, 52, 53, 54, 55, 56, 57, 58, 59, 60])"
      ]
     },
     "execution_count": 61,
     "metadata": {},
     "output_type": "execute_result"
    }
   ],
   "source": [
    "np1 = np.arange(51, 61, 1)\n",
    "np1"
   ]
  },
  {
   "cell_type": "code",
   "execution_count": 62,
   "id": "8bf688ca",
   "metadata": {},
   "outputs": [
    {
     "name": "stdout",
     "output_type": "stream",
     "text": [
      "(array([1, 3, 5, 7, 9]),)\n"
     ]
    }
   ],
   "source": [
    "x = np.where(np1 % 2 == 0)\n",
    "print(x) # returns indexes of all those that match the search."
   ]
  },
  {
   "cell_type": "code",
   "execution_count": 63,
   "id": "55c29f6e",
   "metadata": {},
   "outputs": [
    {
     "data": {
      "text/plain": [
       "array([1, 3, 5, 7, 9])"
      ]
     },
     "execution_count": 63,
     "metadata": {},
     "output_type": "execute_result"
    }
   ],
   "source": [
    "x[0] # the indexes of the array elements that matched the search"
   ]
  },
  {
   "cell_type": "code",
   "execution_count": 64,
   "id": "d190fc73",
   "metadata": {},
   "outputs": [
    {
     "data": {
      "text/plain": [
       "array([52, 54, 56, 58, 60])"
      ]
     },
     "execution_count": 64,
     "metadata": {},
     "output_type": "execute_result"
    }
   ],
   "source": [
    "np1[x[0]] # all the array elements that matched the search"
   ]
  },
  {
   "cell_type": "markdown",
   "id": "6a5fea36",
   "metadata": {},
   "source": [
    "### Filtering Numpy arrays\n",
    "\n",
    "Let's see in detail what's happening, but we can just use the Numpy shorthand to make this process easier  \n",
    "filtered = np_array > 3 (condition)"
   ]
  },
  {
   "cell_type": "code",
   "execution_count": 65,
   "id": "714d3f1c",
   "metadata": {},
   "outputs": [
    {
     "data": {
      "text/plain": [
       "array([1, 4, 5])"
      ]
     },
     "execution_count": 65,
     "metadata": {},
     "output_type": "execute_result"
    }
   ],
   "source": [
    "np1 = np.array([1, 2, 3, 4, 5])\n",
    "x = [True, False, False, True, True] # filter or mask\n",
    "np1[x] # This is valid because we can pass an array of values to get multiple values as seen above"
   ]
  },
  {
   "cell_type": "code",
   "execution_count": 66,
   "id": "4de5039f",
   "metadata": {},
   "outputs": [
    {
     "data": {
      "text/plain": [
       "array([4, 5])"
      ]
     },
     "execution_count": 66,
     "metadata": {},
     "output_type": "execute_result"
    }
   ],
   "source": [
    "filtered = []\n",
    "for num in np1:\n",
    "    if num > 3:\n",
    "        filtered.append(True)\n",
    "    else:\n",
    "        filtered.append(False)\n",
    "np1[filtered]"
   ]
  },
  {
   "cell_type": "markdown",
   "id": "250ed482",
   "metadata": {},
   "source": [
    "Now Using the Numpy shorthand (directly write the condition):"
   ]
  },
  {
   "cell_type": "code",
   "execution_count": 67,
   "id": "f5b16bc5",
   "metadata": {},
   "outputs": [
    {
     "data": {
      "text/plain": [
       "array([False, False, False,  True,  True])"
      ]
     },
     "execution_count": 67,
     "metadata": {},
     "output_type": "execute_result"
    }
   ],
   "source": [
    "np1 > 3 # gives out a mask"
   ]
  },
  {
   "cell_type": "code",
   "execution_count": 68,
   "id": "f9ac234f",
   "metadata": {},
   "outputs": [
    {
     "data": {
      "text/plain": [
       "array([4, 5])"
      ]
     },
     "execution_count": 68,
     "metadata": {},
     "output_type": "execute_result"
    }
   ],
   "source": [
    "filt = np1 > 3 # Numpy shorthand\n",
    "np1[filt]"
   ]
  },
  {
   "cell_type": "markdown",
   "id": "d8377864",
   "metadata": {},
   "source": [
    "### Generating Random numbers and Random arrays\n",
    "\n",
    "-> One of the main use case of Numpy is to generate arrays with random numbers. Let's see how to do that"
   ]
  },
  {
   "cell_type": "code",
   "execution_count": 69,
   "id": "1cda61f9",
   "metadata": {},
   "outputs": [
    {
     "data": {
      "text/plain": [
       "34"
      ]
     },
     "execution_count": 69,
     "metadata": {},
     "output_type": "execute_result"
    }
   ],
   "source": [
    "np.random.randint(100) #np.random.randint(high) is the basic format. Gives out a random number < high, \n",
    "# here high=100"
   ]
  },
  {
   "cell_type": "code",
   "execution_count": 70,
   "id": "45af7b5a",
   "metadata": {},
   "outputs": [
    {
     "data": {
      "text/plain": [
       "250"
      ]
     },
     "execution_count": 70,
     "metadata": {},
     "output_type": "execute_result"
    }
   ],
   "source": [
    "np.random.randint(low = 100, high=500) # gives a random number between 'low' and 'high'"
   ]
  },
  {
   "cell_type": "code",
   "execution_count": 71,
   "id": "51ee9330",
   "metadata": {},
   "outputs": [
    {
     "data": {
      "text/plain": [
       "array([[108, 103, 234, 470, 131],\n",
       "       [199, 487, 257, 160, 482],\n",
       "       [418, 186, 221, 288, 319],\n",
       "       [401, 493, 415, 156, 147],\n",
       "       [493, 113, 286, 285, 111]])"
      ]
     },
     "execution_count": 71,
     "metadata": {},
     "output_type": "execute_result"
    }
   ],
   "source": [
    "np.random.randint(low=100, high=500, size=(5, 5)) # gives out a nd array of size 'size' between 'low' & 'high'."
   ]
  },
  {
   "cell_type": "code",
   "execution_count": 72,
   "id": "b1618b45",
   "metadata": {},
   "outputs": [
    {
     "data": {
      "text/plain": [
       "array([[5, 3, 3, 5, 2],\n",
       "       [5, 3, 2, 4, 3],\n",
       "       [0, 4, 0, 0, 5],\n",
       "       [0, 4, 3, 3, 5],\n",
       "       [3, 3, 3, 3, 4]])"
      ]
     },
     "execution_count": 72,
     "metadata": {},
     "output_type": "execute_result"
    }
   ],
   "source": [
    "np.random.randint(6, size=(5, 5)) # by default the first argument is for 'high'"
   ]
  },
  {
   "cell_type": "code",
   "execution_count": 73,
   "id": "b7491721",
   "metadata": {},
   "outputs": [
    {
     "data": {
      "text/plain": [
       "0.3316826859900296"
      ]
     },
     "execution_count": 73,
     "metadata": {},
     "output_type": "execute_result"
    }
   ],
   "source": [
    "np.random.rand() # np.random.rand() gives out a float value"
   ]
  },
  {
   "cell_type": "code",
   "execution_count": 74,
   "id": "a5d0669b",
   "metadata": {},
   "outputs": [
    {
     "data": {
      "text/plain": [
       "array([[0.38434088, 0.33124509, 0.4017175 , 0.1718395 , 0.31733107],\n",
       "       [0.24315568, 0.95314098, 0.30077135, 0.41214044, 0.12473636]])"
      ]
     },
     "execution_count": 74,
     "metadata": {},
     "output_type": "execute_result"
    }
   ],
   "source": [
    "np.random.rand(2, 5) # just passing in the dimensions of the nd-array we want directly"
   ]
  },
  {
   "cell_type": "code",
   "execution_count": 75,
   "id": "8e8aa18c",
   "metadata": {},
   "outputs": [
    {
     "data": {
      "text/plain": [
       "array([18, 21, 29, 44, 18, 32, 24, 15, 11, 14])"
      ]
     },
     "execution_count": 75,
     "metadata": {},
     "output_type": "execute_result"
    }
   ],
   "source": [
    "np1 = np.random.randint(50, size=10)\n",
    "np1"
   ]
  },
  {
   "cell_type": "code",
   "execution_count": 76,
   "id": "cf4e6156",
   "metadata": {},
   "outputs": [
    {
     "data": {
      "text/plain": [
       "24"
      ]
     },
     "execution_count": 76,
     "metadata": {},
     "output_type": "execute_result"
    }
   ],
   "source": [
    "np.random.choice(np1) # np.random.choice(np_array) helps pick out a random value from the np_array."
   ]
  }
 ],
 "metadata": {
  "kernelspec": {
   "display_name": "Python 3 (ipykernel)",
   "language": "python",
   "name": "python3"
  },
  "language_info": {
   "codemirror_mode": {
    "name": "ipython",
    "version": 3
   },
   "file_extension": ".py",
   "mimetype": "text/x-python",
   "name": "python",
   "nbconvert_exporter": "python",
   "pygments_lexer": "ipython3",
   "version": "3.10.7"
  }
 },
 "nbformat": 4,
 "nbformat_minor": 5
}
